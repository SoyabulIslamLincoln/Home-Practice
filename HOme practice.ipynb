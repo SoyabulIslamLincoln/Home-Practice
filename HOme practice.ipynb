{
 "cells": [
  {
   "cell_type": "code",
   "execution_count": 7,
   "metadata": {},
   "outputs": [
    {
     "name": "stdout",
     "output_type": "stream",
     "text": [
      "22.6125\n",
      "122.5\n"
     ]
    },
    {
     "data": {
      "text/plain": [
       "122"
      ]
     },
     "execution_count": 7,
     "metadata": {},
     "output_type": "execute_result"
    }
   ],
   "source": [
    "#number \n",
    "tax=22.5/100\n",
    "price=100.50\n",
    "print(price*tax)\n",
    "b=int(price*tax)\n",
    "\n",
    "print(price + b)\n",
    "a=int(price+b)\n",
    "\n",
    "round(a,2)"
   ]
  },
  {
   "cell_type": "code",
   "execution_count": 12,
   "metadata": {},
   "outputs": [
    {
     "data": {
      "text/plain": [
       "'spam eggs'"
      ]
     },
     "execution_count": 12,
     "metadata": {},
     "output_type": "execute_result"
    }
   ],
   "source": [
    "\n",
    "'spam eggs'\n"
   ]
  },
  {
   "cell_type": "code",
   "execution_count": 13,
   "metadata": {},
   "outputs": [
    {
     "data": {
      "text/plain": [
       "\"doesn't\""
      ]
     },
     "execution_count": 13,
     "metadata": {},
     "output_type": "execute_result"
    }
   ],
   "source": [
    "\"doesn\\'t\""
   ]
  },
  {
   "cell_type": "code",
   "execution_count": 14,
   "metadata": {},
   "outputs": [
    {
     "data": {
      "text/plain": [
       "'\"yes\", the said i was ready'"
      ]
     },
     "execution_count": 14,
     "metadata": {},
     "output_type": "execute_result"
    }
   ],
   "source": [
    "'\"yes\", the said i was ready'"
   ]
  },
  {
   "cell_type": "code",
   "execution_count": 15,
   "metadata": {},
   "outputs": [
    {
     "name": "stdout",
     "output_type": "stream",
     "text": [
      "C:\\some\n",
      "ame\n"
     ]
    }
   ],
   "source": [
    "print('C:\\some\\name')"
   ]
  },
  {
   "cell_type": "code",
   "execution_count": 16,
   "metadata": {},
   "outputs": [
    {
     "data": {
      "text/plain": [
       "'C:\\\\some\\\\name'"
      ]
     },
     "execution_count": 16,
     "metadata": {},
     "output_type": "execute_result"
    }
   ],
   "source": [
    "r\"C:\\some\\name\""
   ]
  },
  {
   "cell_type": "code",
   "execution_count": 17,
   "metadata": {},
   "outputs": [
    {
     "name": "stdout",
     "output_type": "stream",
     "text": [
      "C:\\some\\name\n"
     ]
    }
   ],
   "source": [
    "print(r\"C:\\some\\name\")"
   ]
  },
  {
   "cell_type": "code",
   "execution_count": 18,
   "metadata": {},
   "outputs": [
    {
     "name": "stdout",
     "output_type": "stream",
     "text": [
      "usage: thing[option]         my name is linkon\n",
      "         -roll 1709028\n",
      "          - experience: none   great at management\n",
      "                         will it be able to satisfy\n",
      "                         \n",
      "                                                             DUDE!!!!\n",
      "                                                             \n"
     ]
    }
   ],
   "source": [
    "#String literals can span multiple lines. One way is using triple-quotes: \"\"\"...\"\"\" or '''...'''. End of lines are automatically included in the string, but it’s possible to prevent this by adding a \\ at the end of the line\n",
    "print(\"\"\"\\\n",
    "usage: thing[option]         my name is linkon\n",
    "         -roll 1709028\n",
    "          - experience: none   great at management\n",
    "                         will it be able to satisfy\n",
    "                         \n",
    "                                                             DUDE!!!!\n",
    "                                                             \"\"\")"
   ]
  },
  {
   "cell_type": "code",
   "execution_count": 20,
   "metadata": {},
   "outputs": [
    {
     "name": "stdout",
     "output_type": "stream",
     "text": [
      "i\n",
      "Soyabul \n",
      "Soyabul islam linkon\n"
     ]
    }
   ],
   "source": [
    "name =\"Soyabul islam linkon\"\n",
    "print(name[-5])\n",
    "print(name[0:8])\n",
    "print(name[0:3]+name[3:])\n",
    "\n"
   ]
  },
  {
   "cell_type": "code",
   "execution_count": 1,
   "metadata": {},
   "outputs": [
    {
     "name": "stdout",
     "output_type": "stream",
     "text": [
      "[1, 2, 3, 4, 'e', 't', '3', 7, 'e', 7]\n",
      "[1, 2, 3, 4, 'e', 't', '3', 7, 'e', 7, 3, 6, 8, 2, 6, 9, 0]\n",
      "[1, 2, 3, 4, 'e', 't', '3', 7, 'e', 7, 3, 6, 8, 2, 6, 9, 0, 78125, 736]\n",
      "736\n",
      "[1, 2, 3, 4, 'e', 't', '3', 7, 'e', 7, 3, 6, 8, 2, 6, 9, 0, 78125]\n",
      "None\n"
     ]
    },
    {
     "data": {
      "text/plain": [
       "[1, 2, 3, 4, 'T', 7, 'yaaY', 'e', 7, 3, 6, 8, 2, 6, 9, 0, 78125]"
      ]
     },
     "execution_count": 1,
     "metadata": {},
     "output_type": "execute_result"
    }
   ],
   "source": [
    "#list\n",
    "l=[1,2,3,4,'e','t','3',7,'e',7]\n",
    "print(l)\n",
    "square=l+[3,6,8,2,6,9,0]\n",
    "print(square)\n",
    "square.append(5**7)\n",
    "square.append(736)\n",
    "print(square)\n",
    "print(square.pop())\n",
    "print(square)\n",
    "print(square.remove(square[5]))\n",
    "square[4:7]=['T',7,'yaaY']\n",
    "square\n",
    "\n",
    "\n"
   ]
  },
  {
   "cell_type": "code",
   "execution_count": 2,
   "metadata": {},
   "outputs": [
    {
     "name": "stdout",
     "output_type": "stream",
     "text": [
      "0\n",
      "1\n",
      "1\n",
      "2\n",
      "3\n",
      "5\n",
      "8\n",
      "13\n",
      "21\n",
      "34\n",
      "55\n",
      "89\n"
     ]
    }
   ],
   "source": [
    "#fiboncci\n",
    "a,b=0,1\n",
    "while a<100:\n",
    "    print(a)\n",
    "    a,b=b,a+b"
   ]
  },
  {
   "cell_type": "code",
   "execution_count": 3,
   "metadata": {},
   "outputs": [
    {
     "name": "stdout",
     "output_type": "stream",
     "text": [
      "0,1,1,2,3,5,8,13,21,34,55,89,144,233,377,610,987,1597,"
     ]
    }
   ],
   "source": [
    "#fibonacci 2\n",
    "m,n=0,1\n",
    "while m<2000:\n",
    "    print(m,end=',')\n",
    "    m,n= n, m+n"
   ]
  },
  {
   "cell_type": "code",
   "execution_count": 4,
   "metadata": {},
   "outputs": [
    {
     "name": "stdin",
     "output_type": "stream",
     "text": [
      "Enter an value=  6\n"
     ]
    },
    {
     "name": "stdout",
     "output_type": "stream",
     "text": [
      "the value is,  6\n"
     ]
    }
   ],
   "source": [
    "#if statemaent\n",
    "x=int(input(\"Enter an value= \"))\n",
    "if x<0:\n",
    "    x=0\n",
    "    print(\"Negative value turned to zero\")\n",
    "elif x==0:\n",
    "    print(\"The value is zero\")\n",
    "elif x==1:\n",
    "    print(\"single\")\n",
    "else:\n",
    "    print(\"the value is, \",x)"
   ]
  },
  {
   "cell_type": "code",
   "execution_count": 6,
   "metadata": {},
   "outputs": [
    {
     "name": "stdout",
     "output_type": "stream",
     "text": [
      "cats 4\n",
      "window 6\n",
      "game 4\n",
      "psychopath 10\n"
     ]
    }
   ],
   "source": [
    "#measurement of strings\n",
    "words=['cats','window','game','psychopath']\n",
    "for w in words:\n",
    "    print(w,len(w))\n",
    "    "
   ]
  },
  {
   "cell_type": "code",
   "execution_count": 7,
   "metadata": {},
   "outputs": [
    {
     "name": "stdout",
     "output_type": "stream",
     "text": [
      "0 linkon\n",
      "1 had\n",
      "2 a\n",
      "3 little\n",
      "4 car\n"
     ]
    }
   ],
   "source": [
    "#range function\n",
    "\n",
    "a=['linkon','had','a','little','car']\n",
    "for i in range (len(a)):\n",
    "    print(i,a[i])"
   ]
  },
  {
   "cell_type": "code",
   "execution_count": 11,
   "metadata": {},
   "outputs": [
    {
     "name": "stdout",
     "output_type": "stream",
     "text": [
      "2  is the prime number\n",
      "3  is the prime number\n",
      "4 equals 2 * 2\n",
      "5  is the prime number\n",
      "6 equals 2 * 3\n",
      "7  is the prime number\n",
      "8 equals 2 * 4\n",
      "9 equals 3 * 3\n",
      "10 equals 2 * 5\n",
      "11  is the prime number\n",
      "12 equals 2 * 6\n",
      "13  is the prime number\n",
      "14 equals 2 * 7\n",
      "15 equals 3 * 5\n",
      "16 equals 2 * 8\n",
      "17  is the prime number\n",
      "18 equals 2 * 9\n",
      "19  is the prime number\n",
      "20 equals 2 * 10\n",
      "21 equals 3 * 7\n",
      "22 equals 2 * 11\n",
      "23  is the prime number\n",
      "24 equals 2 * 12\n",
      "25 equals 5 * 5\n",
      "26 equals 2 * 13\n",
      "27 equals 3 * 9\n",
      "28 equals 2 * 14\n",
      "29  is the prime number\n",
      "30 equals 2 * 15\n",
      "31  is the prime number\n",
      "32 equals 2 * 16\n",
      "33 equals 3 * 11\n",
      "34 equals 2 * 17\n",
      "35 equals 5 * 7\n",
      "36 equals 2 * 18\n",
      "37  is the prime number\n",
      "38 equals 2 * 19\n",
      "39 equals 3 * 13\n",
      "40 equals 2 * 20\n",
      "41  is the prime number\n",
      "42 equals 2 * 21\n",
      "43  is the prime number\n",
      "44 equals 2 * 22\n",
      "45 equals 3 * 15\n",
      "46 equals 2 * 23\n",
      "47  is the prime number\n",
      "48 equals 2 * 24\n",
      "49 equals 7 * 7\n",
      "50 equals 2 * 25\n",
      "51 equals 3 * 17\n",
      "52 equals 2 * 26\n",
      "53  is the prime number\n",
      "54 equals 2 * 27\n",
      "55 equals 5 * 11\n",
      "56 equals 2 * 28\n",
      "57 equals 3 * 19\n",
      "58 equals 2 * 29\n",
      "59  is the prime number\n",
      "60 equals 2 * 30\n",
      "61  is the prime number\n",
      "62 equals 2 * 31\n",
      "63 equals 3 * 21\n",
      "64 equals 2 * 32\n",
      "65 equals 5 * 13\n",
      "66 equals 2 * 33\n",
      "67  is the prime number\n",
      "68 equals 2 * 34\n",
      "69 equals 3 * 23\n",
      "70 equals 2 * 35\n",
      "71  is the prime number\n",
      "72 equals 2 * 36\n",
      "73  is the prime number\n",
      "74 equals 2 * 37\n",
      "75 equals 3 * 25\n",
      "76 equals 2 * 38\n",
      "77 equals 7 * 11\n",
      "78 equals 2 * 39\n",
      "79  is the prime number\n",
      "80 equals 2 * 40\n",
      "81 equals 3 * 27\n",
      "82 equals 2 * 41\n",
      "83  is the prime number\n",
      "84 equals 2 * 42\n",
      "85 equals 5 * 17\n",
      "86 equals 2 * 43\n",
      "87 equals 3 * 29\n",
      "88 equals 2 * 44\n",
      "89  is the prime number\n",
      "90 equals 2 * 45\n",
      "91 equals 7 * 13\n",
      "92 equals 2 * 46\n",
      "93 equals 3 * 31\n",
      "94 equals 2 * 47\n",
      "95 equals 5 * 19\n",
      "96 equals 2 * 48\n",
      "97  is the prime number\n",
      "98 equals 2 * 49\n",
      "99 equals 3 * 33\n"
     ]
    }
   ],
   "source": [
    "#break statement\n",
    "for i in range(2,100):\n",
    "    for n in range(2, i):\n",
    "        if i % n==0:\n",
    "            print(i,'equals',n ,'*',i//n)\n",
    "            break\n",
    "    else:\n",
    "        print(i, ' is the prime number')\n",
    "        "
   ]
  },
  {
   "cell_type": "code",
   "execution_count": 12,
   "metadata": {},
   "outputs": [
    {
     "name": "stdout",
     "output_type": "stream",
     "text": [
      "Found an Even number 2\n",
      "Found an Odd number 3\n",
      "Found an Even number 4\n",
      "Found an Odd number 5\n",
      "Found an Even number 6\n",
      "Found an Odd number 7\n",
      "Found an Even number 8\n",
      "Found an Odd number 9\n",
      "Found an Even number 10\n",
      "Found an Odd number 11\n",
      "Found an Even number 12\n",
      "Found an Odd number 13\n",
      "Found an Even number 14\n",
      "Found an Odd number 15\n",
      "Found an Even number 16\n",
      "Found an Odd number 17\n",
      "Found an Even number 18\n",
      "Found an Odd number 19\n",
      "Found an Even number 20\n",
      "Found an Odd number 21\n",
      "Found an Even number 22\n",
      "Found an Odd number 23\n",
      "Found an Even number 24\n",
      "Found an Odd number 25\n",
      "Found an Even number 26\n",
      "Found an Odd number 27\n",
      "Found an Even number 28\n",
      "Found an Odd number 29\n",
      "Found an Even number 30\n",
      "Found an Odd number 31\n",
      "Found an Even number 32\n",
      "Found an Odd number 33\n",
      "Found an Even number 34\n",
      "Found an Odd number 35\n",
      "Found an Even number 36\n",
      "Found an Odd number 37\n",
      "Found an Even number 38\n",
      "Found an Odd number 39\n",
      "Found an Even number 40\n",
      "Found an Odd number 41\n",
      "Found an Even number 42\n",
      "Found an Odd number 43\n",
      "Found an Even number 44\n",
      "Found an Odd number 45\n",
      "Found an Even number 46\n",
      "Found an Odd number 47\n",
      "Found an Even number 48\n",
      "Found an Odd number 49\n",
      "Found an Even number 50\n",
      "Found an Odd number 51\n",
      "Found an Even number 52\n",
      "Found an Odd number 53\n",
      "Found an Even number 54\n",
      "Found an Odd number 55\n",
      "Found an Even number 56\n",
      "Found an Odd number 57\n",
      "Found an Even number 58\n",
      "Found an Odd number 59\n",
      "Found an Even number 60\n",
      "Found an Odd number 61\n",
      "Found an Even number 62\n",
      "Found an Odd number 63\n",
      "Found an Even number 64\n",
      "Found an Odd number 65\n",
      "Found an Even number 66\n",
      "Found an Odd number 67\n",
      "Found an Even number 68\n",
      "Found an Odd number 69\n",
      "Found an Even number 70\n",
      "Found an Odd number 71\n",
      "Found an Even number 72\n",
      "Found an Odd number 73\n",
      "Found an Even number 74\n",
      "Found an Odd number 75\n",
      "Found an Even number 76\n",
      "Found an Odd number 77\n",
      "Found an Even number 78\n",
      "Found an Odd number 79\n",
      "Found an Even number 80\n",
      "Found an Odd number 81\n",
      "Found an Even number 82\n",
      "Found an Odd number 83\n",
      "Found an Even number 84\n",
      "Found an Odd number 85\n",
      "Found an Even number 86\n",
      "Found an Odd number 87\n",
      "Found an Even number 88\n",
      "Found an Odd number 89\n",
      "Found an Even number 90\n",
      "Found an Odd number 91\n",
      "Found an Even number 92\n",
      "Found an Odd number 93\n",
      "Found an Even number 94\n",
      "Found an Odd number 95\n",
      "Found an Even number 96\n",
      "Found an Odd number 97\n",
      "Found an Even number 98\n",
      "Found an Odd number 99\n",
      "Found an Even number 100\n"
     ]
    }
   ],
   "source": [
    "for i in range(2,101):\n",
    "    if i%2==0:\n",
    "        print('Found an Even number',i)\n",
    "        continue\n",
    "    print(\"Found an Odd number\",i)"
   ]
  },
  {
   "cell_type": "code",
   "execution_count": 1,
   "metadata": {},
   "outputs": [
    {
     "name": "stdout",
     "output_type": "stream",
     "text": [
      "0 1 1 2 3 5 8 13 21 34 55 89 144 233 377 610 987 1597 \n"
     ]
    }
   ],
   "source": [
    "#function define\n",
    "\n",
    "def fib(n):\n",
    "    a,b=0,1\n",
    "    while a<n:\n",
    "        print(a,end=\" \")\n",
    "        a,b=b,a+b\n",
    "    print()\n",
    "    \n",
    "fib(2000)\n",
    "    "
   ]
  },
  {
   "cell_type": "code",
   "execution_count": 2,
   "metadata": {},
   "outputs": [
    {
     "name": "stdout",
     "output_type": "stream",
     "text": [
      "0 1 1 2 3 5 8 13 21 34 55 89 \n"
     ]
    }
   ],
   "source": [
    "fib(100)"
   ]
  },
  {
   "cell_type": "code",
   "execution_count": 3,
   "metadata": {},
   "outputs": [],
   "source": [
    "#return fibonacci series upto n\n",
    "def fib2(n):\n",
    "    result=[]\n",
    "    a,b=0,1\n",
    "    while a<n:\n",
    "        result.append(a)\n",
    "        a,b=b,a+b\n",
    "    return result\n",
    "        "
   ]
  },
  {
   "cell_type": "code",
   "execution_count": 6,
   "metadata": {},
   "outputs": [
    {
     "name": "stdin",
     "output_type": "stream",
     "text": [
      "Enter a number 200\n"
     ]
    },
    {
     "data": {
      "text/plain": [
       "[0, 1, 1, 2, 3, 5, 8, 13, 21, 34, 55, 89, 144]"
      ]
     },
     "execution_count": 6,
     "metadata": {},
     "output_type": "execute_result"
    }
   ],
   "source": [
    "n=int(input(\"Enter a number\"))\n",
    "f3=fib2(n)\n",
    "\n",
    "f3\n"
   ]
  },
  {
   "cell_type": "code",
   "execution_count": 7,
   "metadata": {},
   "outputs": [
    {
     "data": {
      "text/plain": [
       "['__add__',\n",
       " '__class__',\n",
       " '__contains__',\n",
       " '__delattr__',\n",
       " '__delitem__',\n",
       " '__dir__',\n",
       " '__doc__',\n",
       " '__eq__',\n",
       " '__format__',\n",
       " '__ge__',\n",
       " '__getattribute__',\n",
       " '__getitem__',\n",
       " '__gt__',\n",
       " '__hash__',\n",
       " '__iadd__',\n",
       " '__imul__',\n",
       " '__init__',\n",
       " '__init_subclass__',\n",
       " '__iter__',\n",
       " '__le__',\n",
       " '__len__',\n",
       " '__lt__',\n",
       " '__mul__',\n",
       " '__ne__',\n",
       " '__new__',\n",
       " '__reduce__',\n",
       " '__reduce_ex__',\n",
       " '__repr__',\n",
       " '__reversed__',\n",
       " '__rmul__',\n",
       " '__setattr__',\n",
       " '__setitem__',\n",
       " '__sizeof__',\n",
       " '__str__',\n",
       " '__subclasshook__',\n",
       " 'append',\n",
       " 'clear',\n",
       " 'copy',\n",
       " 'count',\n",
       " 'extend',\n",
       " 'index',\n",
       " 'insert',\n",
       " 'pop',\n",
       " 'remove',\n",
       " 'reverse',\n",
       " 'sort']"
      ]
     },
     "execution_count": 7,
     "metadata": {},
     "output_type": "execute_result"
    }
   ],
   "source": [
    "dir(list)"
   ]
  },
  {
   "cell_type": "code",
   "execution_count": 10,
   "metadata": {},
   "outputs": [
    {
     "name": "stdout",
     "output_type": "stream",
     "text": [
      "-- This parrot wouldn't  voom if you put 1000 voltage through it.\n",
      "--Lovely plumage, the  Norwegian Blue\n",
      "--It's a stiff !\n",
      "-- This parrot wouldn't  VOOOOOM if you put 1000000 voltage through it.\n",
      "--Lovely plumage, the  Norwegian Blue\n",
      "--It's a stiff !\n",
      "-- This parrot wouldn't  VOOOOOM if you put 1000000 voltage through it.\n",
      "--Lovely plumage, the  Norwegian Blue\n",
      "--It's a stiff !\n",
      "-- This parrot wouldn't  jump if you put a million voltage through it.\n",
      "--Lovely plumage, the  Norwegian Blue\n",
      "--It's bereft of life !\n",
      "-- This parrot wouldn't  voom if you put a thousand voltage through it.\n",
      "--Lovely plumage, the  Norwegian Blue\n",
      "--It's pushing up the daisies !\n"
     ]
    }
   ],
   "source": [
    "def parrot (voltage,state='a stiff',action='voom',type='Norwegian Blue'):\n",
    "    print(\"-- This parrot wouldn't \",action,end=' ')\n",
    "    print(\"if you put\",voltage,\"voltage through it.\")\n",
    "    print(\"--Lovely plumage, the \", type)\n",
    "    print(\"--It's\", state,\"!\")\n",
    "                                         # 1 positional argument\n",
    "parrot(voltage=1000)                                  # 1 keyword argument\n",
    "parrot(voltage=1000000, action='VOOOOOM')             # 2 keyword arguments\n",
    "parrot(action='VOOOOOM', voltage=1000000)             # 2 keyword arguments\n",
    "parrot('a million', 'bereft of life', 'jump')         # 3 positional arguments\n",
    "parrot('a thousand', state='pushing up the daisies')  # 1 positional, 1 keyword\n",
    "    "
   ]
  },
  {
   "cell_type": "code",
   "execution_count": 11,
   "metadata": {},
   "outputs": [],
   "source": [
    "def shop(kind,*arguements,**keywords):\n",
    "    print(\"-- Do you have any\", kind,\"?\")\n",
    "    print(\"-- I am sorry we are out of \",kind)\n",
    "    for arg in arguements:\n",
    "        print(arg)\n",
    "    print(\"-\"*40)\n",
    "    for kw in keywords:\n",
    "        print(kw,\":\",keywords[kw])"
   ]
  },
  {
   "cell_type": "code",
   "execution_count": 12,
   "metadata": {},
   "outputs": [
    {
     "name": "stdout",
     "output_type": "stream",
     "text": [
      "-- Do you have any hamburger ?\n",
      "-- I am sorry we are out of  hamburger\n",
      "It's very runny.\n",
      "It's really very very runny,\n",
      "----------------------------------------\n",
      "shopkeeper : Soyabul Islam\n",
      "client : John Karnesky\n",
      "sketch : Cheese Shop Sketch\n"
     ]
    }
   ],
   "source": [
    "shop(\"hamburger\",\"It's very runny.\",\n",
    "    \"It's really very very runny,\",shopkeeper=\"Soyabul Islam\",\n",
    "    client=\"John Karnesky\",sketch=\"Cheese Shop Sketch\")"
   ]
  },
  {
   "cell_type": "code",
   "execution_count": 4,
   "metadata": {},
   "outputs": [
    {
     "name": "stdout",
     "output_type": "stream",
     "text": [
      "deque(['Buttl', 'linkon', 'farabi'])\n"
     ]
    }
   ],
   "source": [
    "#unpacking arguements list\n",
    "from collections import deque\n",
    "m=deque([\"Eric\",\"Buttler\",\"linkon\",\"farabi\"])\n",
    "m.append(\"troy\")\n",
    "m.popleft()\n",
    "m.pop()\n",
    "print(m)"
   ]
  },
  {
   "cell_type": "code",
   "execution_count": 5,
   "metadata": {},
   "outputs": [
    {
     "data": {
      "text/plain": [
       "[(1, 5), (1, 6), (1, 7), (2, 5), (2, 6), (2, 7), (3, 5), (3, 6), (3, 7)]"
      ]
     },
     "execution_count": 5,
     "metadata": {},
     "output_type": "execute_result"
    }
   ],
   "source": [
    "[(x,y) for x in [1,2,3] for y in [5,6,7] if x!=y]"
   ]
  },
  {
   "cell_type": "code",
   "execution_count": 7,
   "metadata": {},
   "outputs": [
    {
     "data": {
      "text/plain": [
       "[(1, 5), (1, 7), (1, 6), (5, 7), (5, 6), (8, 5), (8, 7), (8, 6)]"
      ]
     },
     "execution_count": 7,
     "metadata": {},
     "output_type": "execute_result"
    }
   ],
   "source": [
    "combs=[]\n",
    "for x in[1,5,8]:\n",
    "    for y in[5,7,6]:\n",
    "        if x!=y:\n",
    "            combs.append((x,y))\n",
    "combs"
   ]
  },
  {
   "cell_type": "code",
   "execution_count": 9,
   "metadata": {},
   "outputs": [
    {
     "data": {
      "text/plain": [
       "[(1, 5), (1, 7), (1, 6), (5, 5), (5, 7), (5, 6), (8, 5), (8, 7), (8, 6)]"
      ]
     },
     "execution_count": 9,
     "metadata": {},
     "output_type": "execute_result"
    }
   ],
   "source": [
    "combs=[]\n",
    "for x in[1,5,8]:\n",
    "    for y in[5,7,6]:\n",
    "        combs.append((x,y))\n",
    "            \n",
    "combs"
   ]
  },
  {
   "cell_type": "code",
   "execution_count": 14,
   "metadata": {},
   "outputs": [
    {
     "data": {
      "text/plain": [
       "['3.1',\n",
       " '3.14',\n",
       " '3.142',\n",
       " '3.1416',\n",
       " '3.14159',\n",
       " '3.141593',\n",
       " '3.1415927',\n",
       " '3.14159265',\n",
       " '3.141592654']"
      ]
     },
     "execution_count": 14,
     "metadata": {},
     "output_type": "execute_result"
    }
   ],
   "source": [
    "from math import pi\n",
    "[str(round(pi,i)) for i in range (1,10)]"
   ]
  },
  {
   "cell_type": "code",
   "execution_count": 17,
   "metadata": {},
   "outputs": [
    {
     "data": {
      "text/plain": [
       "[[1, 5, 9], [2, 6, 10], [3, 7, 11], [4, 8, 12]]"
      ]
     },
     "execution_count": 17,
     "metadata": {},
     "output_type": "execute_result"
    }
   ],
   "source": [
    "matrix=[[1,2,3,4],[5,6,7,8],[9,10,11,12]]\n",
    "[[row[i] for row in matrix] for i in range(4)]\n",
    "\n",
    "transposed=[]\n",
    "for i in range(4):\n",
    "    transposed.append([row[i]for row in matrix])\n",
    "transposed\n"
   ]
  },
  {
   "cell_type": "code",
   "execution_count": 18,
   "metadata": {},
   "outputs": [
    {
     "data": {
      "text/plain": [
       "[(1, 5, 9), (2, 6, 10), (3, 7, 11), (4, 8, 12)]"
      ]
     },
     "execution_count": 18,
     "metadata": {},
     "output_type": "execute_result"
    }
   ],
   "source": [
    "list(zip(*matrix))"
   ]
  },
  {
   "cell_type": "code",
   "execution_count": 21,
   "metadata": {},
   "outputs": [
    {
     "name": "stdout",
     "output_type": "stream",
     "text": [
      "{'r', 'c', 'd', 'b', 'a'}\n",
      "{'n', 'e', 'o', 'i', 'b', 'w', 'l'}\n",
      "{'r', 'c', 'd', 'a'}\n",
      "{'r', 'n', 'e', 'o', 'c', 'd', 'i', 'b', 'a', 'w', 'l'}\n",
      "{'b'}\n",
      "{'n', 'c', 'i', 'a', 'w', 'r', 'e', 'o', 'd', 'l'}\n"
     ]
    }
   ],
   "source": [
    "a=set('abracadabra')\n",
    "b=set(\"belowin\")\n",
    "print(a)\n",
    "print(b)\n",
    "print(a-b)\n",
    "print(a|b)\n",
    "print(a&b)\n",
    "print(a^b)"
   ]
  },
  {
   "cell_type": "code",
   "execution_count": 36,
   "metadata": {},
   "outputs": [],
   "source": [
    "\n",
    "def fib(n):\n",
    "    a,b=0,1\n",
    "    while b<n:\n",
    "        print(b,end='')\n",
    "        a,b=b,a+b\n",
    "    print(' ')\n",
    "    \n",
    "def fib2(n):\n",
    "    result=[]\n",
    "    a,b=0,1\n",
    "    while b<n:\n",
    "        result.append(b)\n",
    "        a,b=b,a+b\n",
    "    return result"
   ]
  },
  {
   "cell_type": "code",
   "execution_count": 32,
   "metadata": {},
   "outputs": [
    {
     "name": "stdout",
     "output_type": "stream",
     "text": [
      "1123581321345589144233377610987 \n"
     ]
    }
   ],
   "source": [
    "fib(1000)"
   ]
  },
  {
   "cell_type": "code",
   "execution_count": 37,
   "metadata": {},
   "outputs": [
    {
     "data": {
      "text/plain": [
       "[1, 1, 2, 3, 5, 8, 13, 21, 34, 55, 89, 144, 233, 377, 610, 987]"
      ]
     },
     "execution_count": 37,
     "metadata": {},
     "output_type": "execute_result"
    }
   ],
   "source": [
    "fib2(1000)"
   ]
  },
  {
   "cell_type": "code",
   "execution_count": 38,
   "metadata": {},
   "outputs": [],
   "source": [
    "import sys\n",
    "sys.path.append('ufs/guido/lib/python')"
   ]
  },
  {
   "cell_type": "code",
   "execution_count": 44,
   "metadata": {},
   "outputs": [
    {
     "name": "stdout",
     "output_type": "stream",
     "text": [
      "['__breakpointhook__', '__displayhook__', '__doc__', '__excepthook__', '__interactivehook__', '__loader__', '__name__', '__package__', '__spec__', '__stderr__', '__stdin__', '__stdout__', '_clear_type_cache', '_current_frames', '_debugmallocstats', '_enablelegacywindowsfsencoding', '_framework', '_getframe', '_git', '_home', '_xoptions', 'api_version', 'argv', 'base_exec_prefix', 'base_prefix', 'breakpointhook', 'builtin_module_names', 'byteorder', 'call_tracing', 'callstats', 'copyright', 'displayhook', 'dllhandle', 'dont_write_bytecode', 'exc_info', 'excepthook', 'exec_prefix', 'executable', 'exit', 'flags', 'float_info', 'float_repr_style', 'get_asyncgen_hooks', 'get_coroutine_origin_tracking_depth', 'get_coroutine_wrapper', 'getallocatedblocks', 'getcheckinterval', 'getdefaultencoding', 'getfilesystemencodeerrors', 'getfilesystemencoding', 'getprofile', 'getrecursionlimit', 'getrefcount', 'getsizeof', 'getswitchinterval', 'gettrace', 'getwindowsversion', 'hash_info', 'hexversion', 'implementation', 'int_info', 'intern', 'is_finalizing', 'last_traceback', 'last_type', 'last_value', 'maxsize', 'maxunicode', 'meta_path', 'modules', 'path', 'path_hooks', 'path_importer_cache', 'platform', 'prefix', 'ps1', 'ps2', 'ps3', 'set_asyncgen_hooks', 'set_coroutine_origin_tracking_depth', 'set_coroutine_wrapper', 'setcheckinterval', 'setprofile', 'setrecursionlimit', 'setswitchinterval', 'settrace', 'stderr', 'stdin', 'stdout', 'thread_info', 'version', 'version_info', 'warnoptions', 'winver']\n",
      "['ArithmeticError', 'AssertionError', 'AttributeError', 'BaseException', 'BlockingIOError', 'BrokenPipeError', 'BufferError', 'BytesWarning', 'ChildProcessError', 'ConnectionAbortedError', 'ConnectionError', 'ConnectionRefusedError', 'ConnectionResetError', 'DeprecationWarning', 'EOFError', 'Ellipsis', 'EnvironmentError', 'Exception', 'False', 'FileExistsError', 'FileNotFoundError', 'FloatingPointError', 'FutureWarning', 'GeneratorExit', 'IOError', 'ImportError', 'ImportWarning', 'IndentationError', 'IndexError', 'InterruptedError', 'IsADirectoryError', 'KeyError', 'KeyboardInterrupt', 'LookupError', 'MemoryError', 'ModuleNotFoundError', 'NameError', 'None', 'NotADirectoryError', 'NotImplemented', 'NotImplementedError', 'OSError', 'OverflowError', 'PendingDeprecationWarning', 'PermissionError', 'ProcessLookupError', 'RecursionError', 'ReferenceError', 'ResourceWarning', 'RuntimeError', 'RuntimeWarning', 'StopAsyncIteration', 'StopIteration', 'SyntaxError', 'SyntaxWarning', 'SystemError', 'SystemExit', 'TabError', 'TimeoutError', 'True', 'TypeError', 'UnboundLocalError', 'UnicodeDecodeError', 'UnicodeEncodeError', 'UnicodeError', 'UnicodeTranslateError', 'UnicodeWarning', 'UserWarning', 'ValueError', 'Warning', 'WindowsError', 'ZeroDivisionError', '__IPYTHON__', '__build_class__', '__debug__', '__doc__', '__import__', '__loader__', '__name__', '__package__', '__spec__', 'abs', 'all', 'any', 'ascii', 'bin', 'bool', 'breakpoint', 'bytearray', 'bytes', 'callable', 'chr', 'classmethod', 'compile', 'complex', 'copyright', 'credits', 'delattr', 'dict', 'dir', 'display', 'divmod', 'enumerate', 'eval', 'exec', 'filter', 'float', 'format', 'frozenset', 'get_ipython', 'getattr', 'globals', 'hasattr', 'hash', 'help', 'hex', 'id', 'input', 'int', 'isinstance', 'issubclass', 'iter', 'len', 'license', 'list', 'locals', 'map', 'max', 'memoryview', 'min', 'next', 'object', 'oct', 'open', 'ord', 'pow', 'print', 'property', 'range', 'repr', 'reversed', 'round', 'set', 'setattr', 'slice', 'sorted', 'staticmethod', 'str', 'sum', 'super', 'tuple', 'type', 'vars', 'zip']\n"
     ]
    }
   ],
   "source": [
    "import math\n",
    "import sys,builtins\n",
    "print(dir(sys))\n",
    "print(dir(builtins))\n"
   ]
  },
  {
   "cell_type": "code",
   "execution_count": 47,
   "metadata": {},
   "outputs": [
    {
     "name": "stdout",
     "output_type": "stream",
     "text": [
      " 1   1     1\n",
      " 2   4     8\n",
      " 3   9    27\n",
      " 4  16    64\n",
      " 5  25   125\n",
      " 6  36   216\n",
      " 7  49   343\n",
      " 8  64   512\n",
      " 9  81   729\n",
      "10 100  1000\n",
      "11 121  1331\n",
      "12 144  1728\n",
      "13 169  2197\n",
      "14 196  2744\n",
      "15 225  3375\n",
      "16 256  4096\n",
      "17 289  4913\n",
      "18 324  5832\n",
      "19 361  6859\n",
      "20 400  8000\n"
     ]
    }
   ],
   "source": [
    "for x in range(1,21):\n",
    "    print(repr(x).rjust(2),repr(x*x).rjust(3),end='')\n",
    "    print( ' ',repr(x*x*x).rjust(4))"
   ]
  },
  {
   "cell_type": "code",
   "execution_count": 57,
   "metadata": {},
   "outputs": [
    {
     "name": "stdout",
     "output_type": "stream",
     "text": [
      "The value of pi is= 3.141592653589793\n",
      "The value of pi is= 3.142\n",
      "I am Lincoln ,I am your king\n"
     ]
    }
   ],
   "source": [
    "#format tag\n",
    "import math\n",
    "print('The value of pi is= {}'.format(math.pi))\n",
    "print('The value of pi is= {0:.3f}'.format(math.pi))\n",
    "print('I am {} ,I am your {}'.format('Lincoln','king'))"
   ]
  },
  {
   "cell_type": "raw",
   "metadata": {},
   "source": []
  },
  {
   "cell_type": "code",
   "execution_count": 59,
   "metadata": {},
   "outputs": [
    {
     "ename": "FileNotFoundError",
     "evalue": "[Errno 2] No such file or directory: 'workfile'",
     "output_type": "error",
     "traceback": [
      "\u001b[1;31m---------------------------------------------------------------------------\u001b[0m",
      "\u001b[1;31mFileNotFoundError\u001b[0m                         Traceback (most recent call last)",
      "\u001b[1;32m<ipython-input-59-3ef859ef8305>\u001b[0m in \u001b[0;36m<module>\u001b[1;34m\u001b[0m\n\u001b[0;32m      1\u001b[0m \u001b[1;31m#f.seek(offset,from_what)\u001b[0m\u001b[1;33m\u001b[0m\u001b[1;33m\u001b[0m\u001b[1;33m\u001b[0m\u001b[0m\n\u001b[0;32m      2\u001b[0m \u001b[1;33m\u001b[0m\u001b[0m\n\u001b[1;32m----> 3\u001b[1;33m \u001b[0mf\u001b[0m\u001b[1;33m=\u001b[0m\u001b[0mopen\u001b[0m\u001b[1;33m(\u001b[0m\u001b[1;34m'workfile'\u001b[0m\u001b[1;33m,\u001b[0m\u001b[1;34m'rb+'\u001b[0m\u001b[1;33m)\u001b[0m\u001b[1;33m\u001b[0m\u001b[1;33m\u001b[0m\u001b[0m\n\u001b[0m\u001b[0;32m      4\u001b[0m \u001b[0mf\u001b[0m\u001b[1;33m.\u001b[0m\u001b[0mwrite\u001b[0m\u001b[1;33m(\u001b[0m\u001b[1;34m'0123456789abcdf'\u001b[0m\u001b[1;33m)\u001b[0m\u001b[1;33m\u001b[0m\u001b[1;33m\u001b[0m\u001b[0m\n\u001b[0;32m      5\u001b[0m \u001b[0mf\u001b[0m\u001b[1;33m.\u001b[0m\u001b[0mseek\u001b[0m\u001b[1;33m(\u001b[0m\u001b[1;36m5\u001b[0m\u001b[1;33m)\u001b[0m\u001b[1;33m\u001b[0m\u001b[1;33m\u001b[0m\u001b[0m\n",
      "\u001b[1;31mFileNotFoundError\u001b[0m: [Errno 2] No such file or directory: 'workfile'"
     ]
    }
   ],
   "source": [
    "#f.seek(offset,from_what)\n",
    "\n",
    "f=open('workfile','rb+')\n",
    "f.write('0123456789abcdf')\n",
    "f.seek(5)\n",
    "f.seek(-3,2)\n",
    "f.read(1)\n"
   ]
  },
  {
   "cell_type": "code",
   "execution_count": null,
   "metadata": {},
   "outputs": [],
   "source": []
  }
 ],
 "metadata": {
  "kernelspec": {
   "display_name": "Python 3",
   "language": "python",
   "name": "python3"
  },
  "language_info": {
   "codemirror_mode": {
    "name": "ipython",
    "version": 3
   },
   "file_extension": ".py",
   "mimetype": "text/x-python",
   "name": "python",
   "nbconvert_exporter": "python",
   "pygments_lexer": "ipython3",
   "version": "3.7.3"
  }
 },
 "nbformat": 4,
 "nbformat_minor": 4
}
